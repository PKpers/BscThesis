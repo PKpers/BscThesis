{
 "cells": [
  {
   "cell_type": "code",
   "execution_count": 1,
   "id": "5e59258d",
   "metadata": {},
   "outputs": [
    {
     "name": "stdout",
     "output_type": "stream",
     "text": [
      "Welcome to JupyROOT 6.26/02\n",
      "+-----+-----------+----+\n",
      "| Row | b1        | b2 | \n",
      "+-----+-----------+----+\n",
      "| 0   | 0.0000000 | 0  | \n",
      "+-----+-----------+----+\n",
      "| 1   | 1.0000000 | 1  | \n",
      "+-----+-----------+----+\n",
      "| 2   | 2.0000000 | 4  | \n",
      "+-----+-----------+----+\n",
      "| 3   | 3.0000000 | 9  | \n",
      "+-----+-----------+----+\n",
      "| 4   | 4.0000000 | 16 | \n",
      "+-----+-----------+----+\n",
      "2 entries passed all filters\n",
      "5 entries passed all filters\n",
      "The mean is always included between the min and the max: 1.0 <= 2.0 <= 3.0\n",
      "Filled h 5.0 times, mean: 2.0\n",
      "Events passing cutb1: 5\n",
      "Events passing cutb1b2: 2\n",
      "Events passing both: 2\n",
      "8\n"
     ]
    }
   ],
   "source": []
  },
  {
   "cell_type": "code",
   "execution_count": null,
   "id": "e4bd2571",
   "metadata": {},
   "outputs": [],
   "source": []
  }
 ],
 "metadata": {
  "kernelspec": {
   "display_name": "Python 3 (ipykernel)",
   "language": "python",
   "name": "python3"
  },
  "language_info": {
   "codemirror_mode": {
    "name": "ipython",
    "version": 3
   },
   "file_extension": ".py",
   "mimetype": "text/x-python",
   "name": "python",
   "nbconvert_exporter": "python",
   "pygments_lexer": "ipython3",
   "version": "3.10.8"
  }
 },
 "nbformat": 4,
 "nbformat_minor": 5
}
